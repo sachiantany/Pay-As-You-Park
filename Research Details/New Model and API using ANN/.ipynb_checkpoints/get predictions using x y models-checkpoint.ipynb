{
 "cells": [
  {
   "cell_type": "code",
   "execution_count": 4,
   "metadata": {},
   "outputs": [],
   "source": [
    "import numpy as np\n",
    "from keras.models import load_model\n",
    "\n",
    "model_x=load_model('x.model')\n",
    "model_y=load_model('y.model')"
   ]
  },
  {
   "cell_type": "code",
   "execution_count": 18,
   "metadata": {},
   "outputs": [],
   "source": [
    "def give_predictions(input_array):\n",
    "    prediction = {}\n",
    "    #get x value\n",
    "    predicted_x=np.argmax(model_x.predict(np.array(input_array).reshape(1,3,)))\n",
    "    #predicted_x=model_x.predict(input_array)\n",
    "    \n",
    "    #get y value\n",
    "    predicted_y=np.argmax(model_y.predict(np.array(input_array).reshape(1,3,)))\n",
    "    #predicted_y=model_y.predict(input_array)\n",
    "    \n",
    "    prediction['x'] = predicted_x\n",
    "    prediction['y'] = predicted_y\n",
    "    \n",
    "    return prediction"
   ]
  },
  {
   "cell_type": "code",
   "execution_count": 21,
   "metadata": {},
   "outputs": [
    {
     "name": "stdout",
     "output_type": "stream",
     "text": [
      "{'x': 122, 'y': 180}\n"
     ]
    }
   ],
   "source": [
    "print(give_predictions([0.877462714,0.768608853,1.457214665]))"
   ]
  },
  {
   "cell_type": "code",
   "execution_count": null,
   "metadata": {},
   "outputs": [],
   "source": []
  }
 ],
 "metadata": {
  "kernelspec": {
   "display_name": "Python 3",
   "language": "python",
   "name": "python3"
  },
  "language_info": {
   "codemirror_mode": {
    "name": "ipython",
    "version": 3
   },
   "file_extension": ".py",
   "mimetype": "text/x-python",
   "name": "python",
   "nbconvert_exporter": "python",
   "pygments_lexer": "ipython3",
   "version": "3.7.9"
  }
 },
 "nbformat": 4,
 "nbformat_minor": 4
}
