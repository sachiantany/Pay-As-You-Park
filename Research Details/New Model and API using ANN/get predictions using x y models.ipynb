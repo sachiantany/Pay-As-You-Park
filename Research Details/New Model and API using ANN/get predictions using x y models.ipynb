{
 "cells": [
  {
   "cell_type": "code",
   "execution_count": 28,
   "metadata": {},
   "outputs": [],
   "source": [
    "import numpy as np\n",
    "from keras.models import load_model\n",
    "\n",
    "model_x=load_model('x.model')\n",
    "model_y=load_model('y.model')"
   ]
  },
  {
   "cell_type": "code",
   "execution_count": 29,
   "metadata": {},
   "outputs": [],
   "source": [
    "def give_predictions(input_array):\n",
    "    prediction = {}\n",
    "    #get x value\n",
    "    predicted_x=np.argmax(model_x.predict(np.array(input_array).reshape(1,3,)))\n",
    "    #predicted_x=model_x.predict(input_array)\n",
    "    \n",
    "    #get y value\n",
    "    predicted_y=np.argmax(model_y.predict(np.array(input_array).reshape(1,3,)))\n",
    "    #predicted_y=model_y.predict(input_array)\n",
    "    \n",
    "    prediction['x'] = predicted_x\n",
    "    prediction['y'] = predicted_y\n",
    "    \n",
    "    return prediction"
   ]
  },
  {
   "cell_type": "code",
   "execution_count": 35,
   "metadata": {},
   "outputs": [
    {
     "name": "stdout",
     "output_type": "stream",
     "text": [
      "{'y': 223, 'x': 122}\n"
     ]
    }
   ],
   "source": [
    "print(give_predictions([0.837089,1.004501,2.130608]))"
   ]
  },
  {
   "cell_type": "code",
   "execution_count": null,
   "metadata": {},
   "outputs": [],
   "source": []
  }
 ],
 "metadata": {
  "kernelspec": {
   "display_name": "Python 3",
   "language": "python",
   "name": "python3"
  }
 },
 "nbformat": 4,
 "nbformat_minor": 4
}
