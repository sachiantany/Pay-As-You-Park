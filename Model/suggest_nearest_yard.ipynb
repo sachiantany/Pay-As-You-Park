{
  "nbformat": 4,
  "nbformat_minor": 0,
  "metadata": {
    "colab": {
      "name": "suggest_nearest_yard.ipynb",
      "provenance": [],
      "collapsed_sections": []
    },
    "kernelspec": {
      "name": "python3",
      "display_name": "Python 3"
    },
    "language_info": {
      "name": "python"
    }
  },
  "cells": [
    {
      "cell_type": "markdown",
      "metadata": {
        "id": "XrO6L3oT5kPo"
      },
      "source": [
        "**Identifying Nearest Parking Yard Location with Haversine Algorithm**"
      ]
    },
    {
      "cell_type": "code",
      "metadata": {
        "colab": {
          "base_uri": "https://localhost:8080/",
          "height": 195
        },
        "id": "lK104Nkk5t2A",
        "outputId": "24f01a9d-33f4-40d4-cb5e-05a865fb7dba"
      },
      "source": [
        "import numpy as np\n",
        "import pandas as pd\n",
        "\n",
        "parkin_yards = pd.read_csv(\"/content/parking_yard/data.csv\")\n",
        "parkin_yards.pop('longitude')\n",
        "parkin_yards.pop('latitude')\n",
        "parkin_yards.pop('description')\n",
        "\n",
        "#renaming lat and long columns\n",
        "parkin_yards = parkin_yards.rename(columns={'X':'lat','Y':'lon'})\n",
        "\n",
        "parkin_yards.head()"
      ],
      "execution_count": null,
      "outputs": [
        {
          "output_type": "execute_result",
          "data": {
            "text/html": [
              "<div>\n",
              "<style scoped>\n",
              "    .dataframe tbody tr th:only-of-type {\n",
              "        vertical-align: middle;\n",
              "    }\n",
              "\n",
              "    .dataframe tbody tr th {\n",
              "        vertical-align: top;\n",
              "    }\n",
              "\n",
              "    .dataframe thead th {\n",
              "        text-align: right;\n",
              "    }\n",
              "</style>\n",
              "<table border=\"1\" class=\"dataframe\">\n",
              "  <thead>\n",
              "    <tr style=\"text-align: right;\">\n",
              "      <th></th>\n",
              "      <th>ID</th>\n",
              "      <th>lat</th>\n",
              "      <th>lon</th>\n",
              "      <th>Name</th>\n",
              "      <th>address</th>\n",
              "      <th>no of slots</th>\n",
              "    </tr>\n",
              "  </thead>\n",
              "  <tbody>\n",
              "    <tr>\n",
              "      <th>0</th>\n",
              "      <td>P1</td>\n",
              "      <td>79.882664</td>\n",
              "      <td>6.914951</td>\n",
              "      <td>LOLC Car Park</td>\n",
              "      <td>21, 25 Chandraleka Mawatha, Colombo 00800</td>\n",
              "      <td>120</td>\n",
              "    </tr>\n",
              "    <tr>\n",
              "      <th>1</th>\n",
              "      <td>P2</td>\n",
              "      <td>79.876301</td>\n",
              "      <td>6.883533</td>\n",
              "      <td>Best Western Elyon Colombo</td>\n",
              "      <td>Baseline Road, 102A Kirulapone Ave, Colombo 00500</td>\n",
              "      <td>75</td>\n",
              "    </tr>\n",
              "    <tr>\n",
              "      <th>2</th>\n",
              "      <td>P3</td>\n",
              "      <td>79.850030</td>\n",
              "      <td>6.933701</td>\n",
              "      <td>Fort</td>\n",
              "      <td>Fort, Colombo</td>\n",
              "      <td>100</td>\n",
              "    </tr>\n",
              "    <tr>\n",
              "      <th>3</th>\n",
              "      <td>P4</td>\n",
              "      <td>79.864816</td>\n",
              "      <td>6.928458</td>\n",
              "      <td>Maradana Railway Station</td>\n",
              "      <td>Jayantha Weerasekara Mawatha, Colombo 01000</td>\n",
              "      <td>225</td>\n",
              "    </tr>\n",
              "    <tr>\n",
              "      <th>4</th>\n",
              "      <td>P5</td>\n",
              "      <td>79.870644</td>\n",
              "      <td>6.879944</td>\n",
              "      <td>Tenaga Carparks (Pvt)Ltd</td>\n",
              "      <td>Level 4, 124 Maya Ave, Colombo 00500</td>\n",
              "      <td>300</td>\n",
              "    </tr>\n",
              "  </tbody>\n",
              "</table>\n",
              "</div>"
            ],
            "text/plain": [
              "   ID  ...  no of slots\n",
              "0  P1  ...          120\n",
              "1  P2  ...           75\n",
              "2  P3  ...          100\n",
              "3  P4  ...          225\n",
              "4  P5  ...          300\n",
              "\n",
              "[5 rows x 6 columns]"
            ]
          },
          "metadata": {
            "tags": []
          },
          "execution_count": 13
        }
      ]
    },
    {
      "cell_type": "markdown",
      "metadata": {
        "id": "vOH2VJz-Cru7"
      },
      "source": [
        "**Haversine Formula**"
      ]
    },
    {
      "cell_type": "code",
      "metadata": {
        "colab": {
          "base_uri": "https://localhost:8080/",
          "height": 35
        },
        "id": "tpngoNNvBjQ0",
        "outputId": "ebea5573-aaa8-4150-987d-4163483fea4d"
      },
      "source": [
        "from math import radians, cos, sin, asin, sqrt\n",
        "def dist(lat1, long1, lat2, long2):\n",
        "    # convert decimal degrees to radians \n",
        "    lat1, long1, lat2, long2 = map(radians, [lat1, long1, lat2, long2])\n",
        "    # haversine formula \n",
        "    dlon = long2 - long1 \n",
        "    dlat = lat2 - lat1 \n",
        "    a = sin(dlat/2)**2 + cos(lat1) * cos(lat2) * sin(dlon/2)**2\n",
        "    c = 2 * asin(sqrt(a)) \n",
        "    # Radius of earth in kilometers is 6371\n",
        "    km = 6371* c\n",
        "    return km\n",
        "\n",
        "def find_nearest(lat, long):\n",
        "    distances = parkin_yards.apply(\n",
        "        lambda row: dist(lat, long, row['lat'], row['lon']), \n",
        "        axis=1)\n",
        "    return parkin_yards.loc[distances.idxmin(), 'ID']\n",
        "\n",
        "find_nearest(79.876301,6.883533)\n"
      ],
      "execution_count": null,
      "outputs": [
        {
          "output_type": "execute_result",
          "data": {
            "application/vnd.google.colaboratory.intrinsic+json": {
              "type": "string"
            },
            "text/plain": [
              "'P2'"
            ]
          },
          "metadata": {
            "tags": []
          },
          "execution_count": 24
        }
      ]
    },
    {
      "cell_type": "markdown",
      "metadata": {
        "id": "_ksVs5bNAQw7"
      },
      "source": [
        ""
      ]
    }
  ]
}